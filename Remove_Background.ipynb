{
 "cells": [
  {
   "cell_type": "code",
   "execution_count": 1,
   "id": "b93ad7d9",
   "metadata": {},
   "outputs": [
    {
     "name": "stdout",
     "output_type": "stream",
     "text": [
      "File Name(s): 1\n",
      "Folder Name : 2\n",
      "Exit Program: *\n",
      "Select Input Mode: 1\n",
      "\n",
      "Example: car.jpg, cat.png\n",
      "Enter Image File Name(s): car.jpg, cat.png\n",
      "\n",
      "Source File: car.jpg\n",
      "Saved File : car_rembg.png\n",
      "\n",
      "Source File: cat.png\n",
      "Saved File : cat_rembg.png\n",
      "\n"
     ]
    }
   ],
   "source": [
    "# Removing Background from Images #\n",
    "\n",
    "import os\n",
    "import glob\n",
    "\n",
    "try:\n",
    "    from rembg import remove\n",
    "except:\n",
    "    os.system(\"pip install rembg\")\n",
    "    from rembg import remove\n",
    "\n",
    "\n",
    "def RemoveBG(in_path):\n",
    "    if not os.path.isfile(in_path):\n",
    "        print(f\"{in_path} does Not Exist!\\n\")\n",
    "        return\n",
    "    \n",
    "    with open(in_path, 'rb') as i:\n",
    "        try:\n",
    "            input = i.read()\n",
    "            output = remove(input)\n",
    "        except:\n",
    "            print(f\"{in_path} is Not An Image File!\\n\")\n",
    "            return\n",
    "        \n",
    "        out_path = in_path[:in_path.rfind(\".\")] + \"_rembg.png\"    # Save as \".png\"\n",
    "        with open(out_path, 'wb') as out_file:\n",
    "            out_file.write(output)\n",
    "\n",
    "    # Printing Process Information\n",
    "    print(f\"Source File: {in_path}\")\n",
    "    print(f\"Saved File : {out_path}\\n\")\n",
    "\n",
    "    \n",
    "def main():\n",
    "    exit_main = False\n",
    "    while True:\n",
    "        inputMode = input(\"File Name(s): 1\\nFolder Name : 2\\nExit Program: *\\nSelect Input Mode: \")\n",
    "        if inputMode == \"*\":\n",
    "            exit_main = True\n",
    "            break\n",
    "        \n",
    "        try:\n",
    "            inputMode = int(inputMode.strip())\n",
    "            if inputMode != 1 and inputMode != 2:\n",
    "                print(\"Enter 1 or 2!\\n\")\n",
    "                continue\n",
    "        except:\n",
    "            print(\"Enter 1 or 2!\\n\")\n",
    "            continue\n",
    "        \n",
    "        break\n",
    "    \n",
    "    \n",
    "    if not exit_main:\n",
    "        if inputMode == 1:\n",
    "            # Example: car.jpg, cat.png\n",
    "            inputString = input(\"\\nExample: car.jpg, cat.png\\nEnter Image File Name(s): \")\n",
    "            splitString = [x.strip() for x in inputString.split(',')]\n",
    "            filenames = [f for f in splitString]\n",
    "\n",
    "        else:\n",
    "            # Example: image\n",
    "            inputString = input(\"\\nExample: image\\nEnter Image Folder Name: \")\n",
    "            splitString = inputString.strip()\n",
    "            if not os.path.isdir(splitString):\n",
    "                print(\"\\nFolder does Not Exist!\")\n",
    "            filenames = glob.glob(splitString+'/*.*')\n",
    "\n",
    "        if len(filenames) > 0:\n",
    "            print()\n",
    "            for file in filenames:\n",
    "                RemoveBG(file)\n",
    "\n",
    "\n",
    "if __name__ == '__main__':\n",
    "    \n",
    "    main()"
   ]
  },
  {
   "cell_type": "code",
   "execution_count": 2,
   "id": "2539439e",
   "metadata": {},
   "outputs": [
    {
     "name": "stdout",
     "output_type": "stream",
     "text": [
      "File Name(s): 1\n",
      "Folder Name : 2\n",
      "Exit Program: *\n",
      "Select Input Mode: 2\n",
      "\n",
      "Example: image\n",
      "Enter Image Folder Name: image\n",
      "\n",
      "Source File: image\\car.jpg\n",
      "Saved File : image\\car_rembg.png\n",
      "\n",
      "Source File: image\\cat.png\n",
      "Saved File : image\\cat_rembg.png\n",
      "\n",
      "image\\non_image.txt is Not An Image File!\n",
      "\n"
     ]
    }
   ],
   "source": [
    "main()"
   ]
  },
  {
   "cell_type": "code",
   "execution_count": null,
   "id": "dc4972ad",
   "metadata": {},
   "outputs": [],
   "source": []
  }
 ],
 "metadata": {
  "kernelspec": {
   "display_name": "Python 3 (ipykernel)",
   "language": "python",
   "name": "python3"
  },
  "language_info": {
   "codemirror_mode": {
    "name": "ipython",
    "version": 3
   },
   "file_extension": ".py",
   "mimetype": "text/x-python",
   "name": "python",
   "nbconvert_exporter": "python",
   "pygments_lexer": "ipython3",
   "version": "3.10.13"
  }
 },
 "nbformat": 4,
 "nbformat_minor": 5
}
